{
  "nbformat": 4,
  "nbformat_minor": 0,
  "metadata": {
    "colab": {
      "provenance": []
    },
    "kernelspec": {
      "name": "python3",
      "display_name": "Python 3"
    },
    "language_info": {
      "name": "python"
    }
  },
  "cells": [
    {
      "cell_type": "code",
      "execution_count": 2,
      "metadata": {
        "colab": {
          "base_uri": "https://localhost:8080/"
        },
        "id": "Bq4Tza3CxPTl",
        "outputId": "e6cc94e8-b359-4685-b542-fb76650acfae"
      },
      "outputs": [
        {
          "output_type": "stream",
          "name": "stdout",
          "text": [
            "Enter the number of terms in Fibonacci series: 7\n",
            "Fibonacci Series:\n",
            "0 1 1 2 3 5 8 "
          ]
        }
      ],
      "source": [
        "\n",
        "def fibonacci(n):\n",
        "    if n == 0:\n",
        "        return 0\n",
        "    elif n == 1:\n",
        "        return 1\n",
        "    else:\n",
        "        return fibonacci(n-1) + fibonacci(n-2)\n",
        "terms = int(input(\"Enter the number of terms in Fibonacci series: \"))\n",
        "\n",
        "print(\"Fibonacci Series:\")\n",
        "for i in range(terms):\n",
        "    print(fibonacci(i), end=\" \")\n"
      ]
    }
  ]
}