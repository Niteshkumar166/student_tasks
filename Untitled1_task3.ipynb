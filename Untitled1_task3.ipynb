{
  "nbformat": 4,
  "nbformat_minor": 0,
  "metadata": {
    "colab": {
      "provenance": [],
      "authorship_tag": "ABX9TyPNkw1rGzVn/c5z6I/hz3rJ",
      "include_colab_link": true
    },
    "kernelspec": {
      "name": "python3",
      "display_name": "Python 3"
    },
    "language_info": {
      "name": "python"
    }
  },
  "cells": [
    {
      "cell_type": "markdown",
      "metadata": {
        "id": "view-in-github",
        "colab_type": "text"
      },
      "source": [
        "<a href=\"https://colab.research.google.com/github/Niteshkumar166/student_tasks/blob/main/Untitled1_task3.ipynb\" target=\"_parent\"><img src=\"https://colab.research.google.com/assets/colab-badge.svg\" alt=\"Open In Colab\"/></a>"
      ]
    },
    {
      "cell_type": "code",
      "execution_count": 2,
      "metadata": {
        "colab": {
          "base_uri": "https://localhost:8080/"
        },
        "id": "V-2jmQh1WBYB",
        "outputId": "e631519c-6863-419a-80bc-2257d89c15c8"
      },
      "outputs": [
        {
          "output_type": "stream",
          "name": "stdout",
          "text": [
            "Fetching your IP address and location...\n",
            "\n",
            "--- IP & Location Details ---\n",
            "IP Address : 34.106.181.47\n",
            "City       : Salt Lake City\n",
            "Region     : Utah\n",
            "Country    : United States\n",
            "Latitude   : 40.6681\n",
            "Longitude  : -111.9083\n",
            "\n",
            "Opening map in browser...\n"
          ]
        }
      ],
      "source": [
        "import requests\n",
        "import folium\n",
        "import webbrowser\n",
        "import os\n",
        "\n",
        "def get_public_ip():\n",
        "    # Fetch public IP\n",
        "    response = requests.get('https://api.ipify.org?format=json')\n",
        "    ip = response.json()['ip']\n",
        "    return ip\n",
        "\n",
        "def get_geolocation(ip):\n",
        "    # Fetch geolocation from IP\n",
        "    url = f'https://ipapi.co/{ip}/json/'\n",
        "    response = requests.get(url)\n",
        "    data = response.json()\n",
        "    location_info = {\n",
        "        'ip': ip,\n",
        "        'city': data.get('city'),\n",
        "        'region': data.get('region'),\n",
        "        'country': data.get('country_name'),\n",
        "        'latitude': data.get('latitude'),\n",
        "        'longitude': data.get('longitude')\n",
        "    }\n",
        "    return location_info\n",
        "\n",
        "def display_map(lat, lon, location_name=\"Your Location\"):\n",
        "    # Create and display map using folium\n",
        "    map_object = folium.Map(location=[lat, lon], zoom_start=10)\n",
        "    folium.Marker([lat, lon], tooltip=location_name).add_to(map_object)\n",
        "    file_path = 'geolocation_map.html'\n",
        "    map_object.save(file_path)\n",
        "    webbrowser.open('file://' + os.path.realpath(file_path))\n",
        "\n",
        "def main():\n",
        "    print(\"Fetching your IP address and location...\")\n",
        "\n",
        "    ip = get_public_ip()\n",
        "    location = get_geolocation(ip)\n",
        "\n",
        "    print(f\"\\n--- IP & Location Details ---\")\n",
        "    print(f\"IP Address : {location['ip']}\")\n",
        "    print(f\"City       : {location['city']}\")\n",
        "    print(f\"Region     : {location['region']}\")\n",
        "    print(f\"Country    : {location['country']}\")\n",
        "    print(f\"Latitude   : {location['latitude']}\")\n",
        "    print(f\"Longitude  : {location['longitude']}\")\n",
        "\n",
        "    print(\"\\nOpening map in browser...\")\n",
        "    display_map(location['latitude'], location['longitude'], f\"{location['city']}, {location['country']}\")\n",
        "\n",
        "if __name__ == \"__main__\":\n",
        "    main()\n"
      ]
    }
  ]
}