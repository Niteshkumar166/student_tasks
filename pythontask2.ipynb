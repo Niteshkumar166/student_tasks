{
  "nbformat": 4,
  "nbformat_minor": 0,
  "metadata": {
    "colab": {
      "provenance": [],
      "authorship_tag": "ABX9TyMcA4J2Rslc/ITpZZpZMBm7",
      "include_colab_link": true
    },
    "kernelspec": {
      "name": "python3",
      "display_name": "Python 3"
    },
    "language_info": {
      "name": "python"
    }
  },
  "cells": [
    {
      "cell_type": "markdown",
      "metadata": {
        "id": "view-in-github",
        "colab_type": "text"
      },
      "source": [
        "<a href=\"https://colab.research.google.com/github/Niteshkumar166/student_tasks/blob/main/pythontask2.ipynb\" target=\"_parent\"><img src=\"https://colab.research.google.com/assets/colab-badge.svg\" alt=\"Open In Colab\"/></a>"
      ]
    },
    {
      "cell_type": "code",
      "execution_count": 1,
      "metadata": {
        "colab": {
          "base_uri": "https://localhost:8080/"
        },
        "id": "hNlYLyvQRYcU",
        "outputId": "b7fd5091-8879-4fc6-b076-03c641e7507b"
      },
      "outputs": [
        {
          "output_type": "stream",
          "name": "stdout",
          "text": [
            "1. Add Student\n",
            "2. View All Students\n",
            "3. Class Averages\n",
            "4. Exit\n",
            "Select an option (1-4): 1\n",
            "Enter student name: Bob\n",
            "Enter subject for Bob (or 'done' to finish): Math\n",
            "Enter grade for Math: 78\n",
            "Enter subject for Bob (or 'done' to finish): Science\n",
            "Enter grade for Science: 88\n",
            "Enter subject for Bob (or 'done' to finish): done\n",
            "Bob's grades added.\n",
            "\n",
            "1. Add Student\n",
            "2. View All Students\n",
            "3. Class Averages\n",
            "4. Exit\n",
            "Select an option (1-4): 2\n",
            "\n",
            "Bob's Grades:\n",
            "  Math: 78.0\n",
            "  Science: 88.0\n",
            "  Average: 83.00\n",
            "\n",
            "1. Add Student\n",
            "2. View All Students\n",
            "3. Class Averages\n",
            "4. Exit\n",
            "Select an option (1-4): 3\n",
            "\n",
            "Class Averages by Subject:\n",
            "  Math: 78.00\n",
            "  Science: 88.00\n",
            "\n",
            "1. Add Student\n",
            "2. View All Students\n",
            "3. Class Averages\n",
            "4. Exit\n",
            "Select an option (1-4): 4\n",
            "Exiting program.\n"
          ]
        }
      ],
      "source": [
        "# Student Grade Tracker with Subjects and Averages\n",
        "\n",
        "def add_student(students):\n",
        "    name = input(\"Enter student name: \")\n",
        "    students[name] = {}\n",
        "    while True:\n",
        "        subject = input(f\"Enter subject for {name} (or 'done' to finish): \")\n",
        "        if subject.lower() == 'done':\n",
        "            break\n",
        "        try:\n",
        "            grade = float(input(f\"Enter grade for {subject}: \"))\n",
        "            students[name][subject] = grade\n",
        "        except ValueError:\n",
        "            print(\"Invalid input. Please enter a number.\")\n",
        "    print(f\"{name}'s grades added.\\n\")\n",
        "\n",
        "def view_students(students):\n",
        "    if not students:\n",
        "        print(\"No students available.\\n\")\n",
        "        return\n",
        "    for name, subjects in students.items():\n",
        "        print(f\"\\n{name}'s Grades:\")\n",
        "        total = 0\n",
        "        count = 0\n",
        "        for subject, grade in subjects.items():\n",
        "            print(f\"  {subject}: {grade}\")\n",
        "            total += grade\n",
        "            count += 1\n",
        "        average = total / count if count > 0 else 0\n",
        "        print(f\"  Average: {average:.2f}\")\n",
        "    print()\n",
        "\n",
        "def class_average(students):\n",
        "    subject_totals = {}\n",
        "    subject_counts = {}\n",
        "\n",
        "    for subjects in students.values():\n",
        "        for subject, grade in subjects.items():\n",
        "            if subject in subject_totals:\n",
        "                subject_totals[subject] += grade\n",
        "                subject_counts[subject] += 1\n",
        "            else:\n",
        "                subject_totals[subject] = grade\n",
        "                subject_counts[subject] = 1\n",
        "\n",
        "    if not subject_totals:\n",
        "        print(\"No grades available.\\n\")\n",
        "        return\n",
        "\n",
        "    print(\"\\nClass Averages by Subject:\")\n",
        "    for subject in subject_totals:\n",
        "        avg = subject_totals[subject] / subject_counts[subject]\n",
        "        print(f\"  {subject}: {avg:.2f}\")\n",
        "    print()\n",
        "\n",
        "def main():\n",
        "    students = {}\n",
        "    while True:\n",
        "        print(\"1. Add Student\")\n",
        "        print(\"2. View All Students\")\n",
        "        print(\"3. Class Averages\")\n",
        "        print(\"4. Exit\")\n",
        "        choice = input(\"Select an option (1-4): \")\n",
        "\n",
        "        if choice == '1':\n",
        "            add_student(students)\n",
        "        elif choice == '2':\n",
        "            view_students(students)\n",
        "        elif choice == '3':\n",
        "            class_average(students)\n",
        "        elif choice == '4':\n",
        "            print(\"Exiting program.\")\n",
        "            break\n",
        "        else:\n",
        "            print(\"Invalid choice. Try again.\\n\")\n",
        "\n",
        "if __name__ == \"__main__\":\n",
        "    main()\n"
      ]
    }
  ]
}